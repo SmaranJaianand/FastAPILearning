{
 "cells": [
  {
   "cell_type": "markdown",
   "id": "85394db4",
   "metadata": {},
   "source": [
    "# FAST API LEARNING"
   ]
  },
  {
   "cell_type": "markdown",
   "id": "2da9e23c",
   "metadata": {},
   "source": [
    "#### IMPORTS"
   ]
  },
  {
   "cell_type": "code",
   "execution_count": null,
   "id": "d484ec4e",
   "metadata": {},
   "outputs": [],
   "source": [
    "from fastapi import FastAPI\n",
    "from typing import Optional\n",
    "from pydantic import BaseModel"
   ]
  },
  {
   "cell_type": "markdown",
   "id": "16b6659d",
   "metadata": {},
   "source": [
    "#### APP INSTANCE\n",
    "##### The app instance is the central object that manages the application's state and behavior. It is responsible for\n",
    "- this is a instance of you FastAPI application\t\n",
    "- the app variable can be changed but when you run the application, it will look for the new app name\n",
    "- run : uvicorn main:new_app_name --reload"
   ]
  },
  {
   "cell_type": "code",
   "execution_count": null,
   "id": "d89a1ab5",
   "metadata": {},
   "outputs": [],
   "source": [
    "app = FastAPI() "
   ]
  },
  {
   "cell_type": "markdown",
   "id": "12636224",
   "metadata": {},
   "source": [
    "### APP ROUTES\n",
    "- @app.get() -> defines a route for the application -> path operator decorator\n",
    "- routes are how we traverse/move through the app \n",
    "- ('/') : is the path of the webpage\n",
    "- index() : is the path operation function that handles the route ( all logic of the main logic is usually under this function for that specific page )\n",
    "- .get() : is the operation"
   ]
  },
  {
   "cell_type": "code",
   "execution_count": null,
   "id": "21e026a2",
   "metadata": {},
   "outputs": [],
   "source": [
    "# the function decorator @app.get() is used to define a route for the application.\n",
    "@app.get('/') # path operation decorator | ('/') is the path for the route\n",
    "def index(): # path operation function\n",
    "\treturn 'hello'"
   ]
  },
  {
   "cell_type": "markdown",
   "id": "092760b0",
   "metadata": {},
   "source": [
    "### DYNAMIC ROUTING\n",
    "\n",
    "* fast api has auto type conversion \n",
    "* Line by line compiling , we need to make sure \n",
    "* this function when we try to access it will throw an error : it is because the function before this has blog/{id} \n",
    "* and python becuz of line by line compiling will not be able to differentiate between the two \n",
    "* Always place the Dynamic Routes after the Static Routes to prevent any type errors\n"
   ]
  },
  {
   "cell_type": "code",
   "execution_count": null,
   "id": "909ec496",
   "metadata": {},
   "outputs": [],
   "source": [
    "@app.get('/items/item-{item_id}') # dynamic routing\n",
    "def read_item(item_id: int):\n",
    "\treturn {\"item_id\": item_id}"
   ]
  },
  {
   "cell_type": "code",
   "execution_count": null,
   "id": "036dd3b2",
   "metadata": {},
   "outputs": [],
   "source": [
    "@app.get('/blog/{id}') # dynamic route\n",
    "def show_blog(id: int):\n",
    "\treturn {'data': id}\n",
    "\n",
    "@app.get('/blog/unpublished') # static route \n",
    "def show_unpublished():\n",
    "\treturn {'data': 'Unpublished blogs'}\n",
    "# this function when we try to access it will throw an error : ( the dynamic route will expect an int but gets 'unpublished'which is a string  \n",
    "\n",
    "# always place the dynamic routes after the static routes"
   ]
  },
  {
   "cell_type": "markdown",
   "id": "ef94c38d",
   "metadata": {},
   "source": [
    "### DOCUMENTATION IN FAST API\n",
    "- launch the application -> uvicorn main:app --reload\n",
    "- in the address bar of application in the browser after the localhost ip add :  http://127.0.0.1:8000/{enter doc route}w\n",
    "- the doc routes :\n",
    "\t- /docs -> for swagger documentation style ( http://127.0.0.1:8000/docs#/ ) \n",
    "\t- /redoc -> for redoc documentation style ( http://127.0.0.1:8000/redoc )"
   ]
  },
  {
   "cell_type": "markdown",
   "id": "ed709e22",
   "metadata": {},
   "source": [
    "### QUERY PARAMETERS"
   ]
  },
  {
   "cell_type": "code",
   "execution_count": null,
   "id": "7a80878e",
   "metadata": {},
   "outputs": [],
   "source": [
    "@app.get('/blog?limit=10&published=true') # query parameters \n",
    "def show_blog():\n",
    "\treturn {'data': 'blog list'}\n",
    "\n",
    "@app.get('/blog') # query parameters\n",
    "def show_blog(limit:int,published:bool): # mentioning the type makes it easy to display the correct datatype for the query\n",
    "\tif published:\n",
    "\t\treturn {'data': f'blog list of limit which are published : {limit}'}\n",
    "\telse:\n",
    "\t\treturn {'data': f'blog list of limit: {limit}'}\n",
    "\t\n",
    "\n",
    "@app.get('/blogs') # query parameters\n",
    "def show_blogs(limit:int=10,published:bool=False,sort:Optional[str]=None): # here we are setting default values for the query parameters | limit = 10 and published = False | sort is an optional query param\n",
    "\tif published:\n",
    "\t\treturn {'data': f'blog list of limit which are published : {limit}'}\n",
    "\telse:\n",
    "\t\treturn {'data': f'blog list of limit: {limit}'}"
   ]
  },
  {
   "cell_type": "markdown",
   "id": "b58e03b0",
   "metadata": {},
   "source": [
    "here we are checking for 2 query param conditions : limit and published , we are checking if we are limited to 10 blogs and if they are published\n",
    "these are not real conditions but just for learning purpose , implementing these conditions require far more logic and data"
   ]
  },
  {
   "cell_type": "markdown",
   "id": "0d5a8b2f",
   "metadata": {},
   "source": [
    "### POST METHOD"
   ]
  },
  {
   "cell_type": "code",
   "execution_count": null,
   "id": "abf5b496",
   "metadata": {},
   "outputs": [],
   "source": [
    "class Blog(BaseModel): # pydantic model for blog\n",
    "\ttitle: str\n",
    "\tbody: str\n",
    "\tpublished: Optional[bool]\n",
    "\n",
    "@app.post('/blog') # post request\n",
    "async def create_blog(blog: Blog):\t\n",
    "\treturn {'bloginfo': f'Blog is created with title: {blog.title} and body: {blog.body} and published: {blog.published}','blog': blog} # returning the blog data as well\t"
   ]
  }
 ],
 "metadata": {
  "kernelspec": {
   "display_name": "venv",
   "language": "python",
   "name": "python3"
  },
  "language_info": {
   "name": "python",
   "version": "3.10.11"
  }
 },
 "nbformat": 4,
 "nbformat_minor": 5
}
